{
  "cells": [
    {
      "cell_type": "code",
      "execution_count": null,
      "metadata": {
        "id": "6uzn7f6U4LpI",
        "colab": {
          "base_uri": "https://localhost:8080/"
        },
        "outputId": "4a504a76-aa66-4dd3-a73d-dd26d2a2f273"
      },
      "outputs": [
        {
          "output_type": "stream",
          "name": "stdout",
          "text": [
            "[nltk_data] Downloading package wordnet to /root/nltk_data...\n",
            "[nltk_data]   Unzipping corpora/wordnet.zip.\n"
          ]
        },
        {
          "output_type": "execute_result",
          "data": {
            "text/plain": [
              "True"
            ]
          },
          "metadata": {},
          "execution_count": 1
        }
      ],
      "source": [
        "import pandas as pd\n",
        "import numpy as np\n",
        "import os\n",
        "import matplotlib.pyplot as plt\n",
        "import seaborn as sns\n",
        "from sklearn.feature_extraction.text import CountVectorizer\n",
        "from sklearn.preprocessing import normalize\n",
        "from sklearn.model_selection import train_test_split\n",
        "from sklearn.metrics import precision_score, recall_score, f1_score,roc_auc_score, roc_curve\n",
        "from sklearn.svm import SVC\n",
        "from imblearn.over_sampling import RandomOverSampler\n",
        "from nltk.stem import WordNetLemmatizer\n",
        "from nltk.stem.porter import *\n",
        "import re\n",
        "import nltk\n",
        "import time\n",
        "from sklearn.utils import shuffle\n",
        "nltk.download('wordnet')"
      ]
    },
    {
      "cell_type": "code",
      "execution_count": null,
      "metadata": {
        "id": "N5aUtiyz35t1",
        "colab": {
          "base_uri": "https://localhost:8080/"
        },
        "outputId": "5be8749e-7481-4540-bdc6-39177c68055d"
      },
      "outputs": [
        {
          "output_type": "stream",
          "name": "stdout",
          "text": [
            "Mounted at /gdrive\n"
          ]
        }
      ],
      "source": [
        "# mount gdrive\n",
        "from google.colab import drive\n",
        "drive.mount('/gdrive')"
      ]
    },
    {
      "cell_type": "markdown",
      "metadata": {
        "id": "OPVsaqpD4QlW"
      },
      "source": [
        "# Step1: Loading Data"
      ]
    },
    {
      "cell_type": "markdown",
      "source": [
        "In the EDA section, we find out that data before 2011 are mostly unlabeled, which means they have little spoiler records. Here we filter out all the records before 2011, and randomly sample 20k records from the filtered data set to form a new data set we deal with."
      ],
      "metadata": {
        "id": "eZwM9Uu2Zh_N"
      }
    },
    {
      "cell_type": "code",
      "execution_count": null,
      "metadata": {
        "id": "WQvUk9Id4N-p"
      },
      "outputs": [],
      "source": [
        "# change root to the necessary path\n",
        "root = \"/gdrive/MyDrive/ads_proj5/ads-spring-2022-prj5-group-4/\"\n",
        "outputs_dir = root + \"output/\""
      ]
    },
    {
      "cell_type": "code",
      "execution_count": null,
      "metadata": {
        "id": "37c5Fno94Slb"
      },
      "outputs": [],
      "source": [
        "data = pd.read_csv(outputs_dir+'goodreads_reviews_spoiler.csv')\n",
        "books_info = pd.read_csv(root+\"data/books.csv\",on_bad_lines='skip')"
      ]
    },
    {
      "cell_type": "code",
      "source": [
        "books_info = books_info[[\"bookID\",\"title\"]]\n",
        "books_info = books_info.rename(columns={\"bookID\":\"book_id\"})"
      ],
      "metadata": {
        "id": "cYu7hD57hGaC"
      },
      "execution_count": null,
      "outputs": []
    },
    {
      "cell_type": "code",
      "source": [
        "data = data.merge(books_info,on=\"book_id\")\n",
        "data = data.drop('Unnamed: 0', axis=1)"
      ],
      "metadata": {
        "id": "wxYxFWrGiB-q"
      },
      "execution_count": null,
      "outputs": []
    },
    {
      "cell_type": "code",
      "execution_count": null,
      "metadata": {
        "colab": {
          "base_uri": "https://localhost:8080/",
          "height": 143
        },
        "id": "XCJHAiuA4Ui9",
        "outputId": "ffe9c886-e2bc-4f88-9f16-001445fba173"
      },
      "outputs": [
        {
          "output_type": "execute_result",
          "data": {
            "text/plain": [
              "                          review_id  has_spoiler  \\\n",
              "0  000d87e353329a4f1f938980cef15d5d            0   \n",
              "1  0f6d9eee40140fa244bd4d11758a4bc3            0   \n",
              "2  1ab4e3049751a43505cd4cff9383a573            0   \n",
              "\n",
              "                                              review  book_id  rating  \\\n",
              "0                          Pure Magic....loved it!!!    16793       5   \n",
              "1  Having first seen the film adaptation, I'm fin...    16793       3   \n",
              "2  I was pretty disappointed with this. I have al...    16793       2   \n",
              "\n",
              "    timestamp                           user_id     title  \n",
              "0  2009-08-01  c3247a4c3cfc1fb4403c758b0ce5b209  Stardust  \n",
              "1  2014-03-09  f70f0349b2905e9bd73384932988edaf  Stardust  \n",
              "2  2016-03-03  bb2fe20ae5ca7c09ef6f7e1afa85970c  Stardust  "
            ],
            "text/html": [
              "\n",
              "  <div id=\"df-8c9da9f0-0547-4d79-a644-f43f34d3de81\">\n",
              "    <div class=\"colab-df-container\">\n",
              "      <div>\n",
              "<style scoped>\n",
              "    .dataframe tbody tr th:only-of-type {\n",
              "        vertical-align: middle;\n",
              "    }\n",
              "\n",
              "    .dataframe tbody tr th {\n",
              "        vertical-align: top;\n",
              "    }\n",
              "\n",
              "    .dataframe thead th {\n",
              "        text-align: right;\n",
              "    }\n",
              "</style>\n",
              "<table border=\"1\" class=\"dataframe\">\n",
              "  <thead>\n",
              "    <tr style=\"text-align: right;\">\n",
              "      <th></th>\n",
              "      <th>review_id</th>\n",
              "      <th>has_spoiler</th>\n",
              "      <th>review</th>\n",
              "      <th>book_id</th>\n",
              "      <th>rating</th>\n",
              "      <th>timestamp</th>\n",
              "      <th>user_id</th>\n",
              "      <th>title</th>\n",
              "    </tr>\n",
              "  </thead>\n",
              "  <tbody>\n",
              "    <tr>\n",
              "      <th>0</th>\n",
              "      <td>000d87e353329a4f1f938980cef15d5d</td>\n",
              "      <td>0</td>\n",
              "      <td>Pure Magic....loved it!!!</td>\n",
              "      <td>16793</td>\n",
              "      <td>5</td>\n",
              "      <td>2009-08-01</td>\n",
              "      <td>c3247a4c3cfc1fb4403c758b0ce5b209</td>\n",
              "      <td>Stardust</td>\n",
              "    </tr>\n",
              "    <tr>\n",
              "      <th>1</th>\n",
              "      <td>0f6d9eee40140fa244bd4d11758a4bc3</td>\n",
              "      <td>0</td>\n",
              "      <td>Having first seen the film adaptation, I'm fin...</td>\n",
              "      <td>16793</td>\n",
              "      <td>3</td>\n",
              "      <td>2014-03-09</td>\n",
              "      <td>f70f0349b2905e9bd73384932988edaf</td>\n",
              "      <td>Stardust</td>\n",
              "    </tr>\n",
              "    <tr>\n",
              "      <th>2</th>\n",
              "      <td>1ab4e3049751a43505cd4cff9383a573</td>\n",
              "      <td>0</td>\n",
              "      <td>I was pretty disappointed with this. I have al...</td>\n",
              "      <td>16793</td>\n",
              "      <td>2</td>\n",
              "      <td>2016-03-03</td>\n",
              "      <td>bb2fe20ae5ca7c09ef6f7e1afa85970c</td>\n",
              "      <td>Stardust</td>\n",
              "    </tr>\n",
              "  </tbody>\n",
              "</table>\n",
              "</div>\n",
              "      <button class=\"colab-df-convert\" onclick=\"convertToInteractive('df-8c9da9f0-0547-4d79-a644-f43f34d3de81')\"\n",
              "              title=\"Convert this dataframe to an interactive table.\"\n",
              "              style=\"display:none;\">\n",
              "        \n",
              "  <svg xmlns=\"http://www.w3.org/2000/svg\" height=\"24px\"viewBox=\"0 0 24 24\"\n",
              "       width=\"24px\">\n",
              "    <path d=\"M0 0h24v24H0V0z\" fill=\"none\"/>\n",
              "    <path d=\"M18.56 5.44l.94 2.06.94-2.06 2.06-.94-2.06-.94-.94-2.06-.94 2.06-2.06.94zm-11 1L8.5 8.5l.94-2.06 2.06-.94-2.06-.94L8.5 2.5l-.94 2.06-2.06.94zm10 10l.94 2.06.94-2.06 2.06-.94-2.06-.94-.94-2.06-.94 2.06-2.06.94z\"/><path d=\"M17.41 7.96l-1.37-1.37c-.4-.4-.92-.59-1.43-.59-.52 0-1.04.2-1.43.59L10.3 9.45l-7.72 7.72c-.78.78-.78 2.05 0 2.83L4 21.41c.39.39.9.59 1.41.59.51 0 1.02-.2 1.41-.59l7.78-7.78 2.81-2.81c.8-.78.8-2.07 0-2.86zM5.41 20L4 18.59l7.72-7.72 1.47 1.35L5.41 20z\"/>\n",
              "  </svg>\n",
              "      </button>\n",
              "      \n",
              "  <style>\n",
              "    .colab-df-container {\n",
              "      display:flex;\n",
              "      flex-wrap:wrap;\n",
              "      gap: 12px;\n",
              "    }\n",
              "\n",
              "    .colab-df-convert {\n",
              "      background-color: #E8F0FE;\n",
              "      border: none;\n",
              "      border-radius: 50%;\n",
              "      cursor: pointer;\n",
              "      display: none;\n",
              "      fill: #1967D2;\n",
              "      height: 32px;\n",
              "      padding: 0 0 0 0;\n",
              "      width: 32px;\n",
              "    }\n",
              "\n",
              "    .colab-df-convert:hover {\n",
              "      background-color: #E2EBFA;\n",
              "      box-shadow: 0px 1px 2px rgba(60, 64, 67, 0.3), 0px 1px 3px 1px rgba(60, 64, 67, 0.15);\n",
              "      fill: #174EA6;\n",
              "    }\n",
              "\n",
              "    [theme=dark] .colab-df-convert {\n",
              "      background-color: #3B4455;\n",
              "      fill: #D2E3FC;\n",
              "    }\n",
              "\n",
              "    [theme=dark] .colab-df-convert:hover {\n",
              "      background-color: #434B5C;\n",
              "      box-shadow: 0px 1px 3px 1px rgba(0, 0, 0, 0.15);\n",
              "      filter: drop-shadow(0px 1px 2px rgba(0, 0, 0, 0.3));\n",
              "      fill: #FFFFFF;\n",
              "    }\n",
              "  </style>\n",
              "\n",
              "      <script>\n",
              "        const buttonEl =\n",
              "          document.querySelector('#df-8c9da9f0-0547-4d79-a644-f43f34d3de81 button.colab-df-convert');\n",
              "        buttonEl.style.display =\n",
              "          google.colab.kernel.accessAllowed ? 'block' : 'none';\n",
              "\n",
              "        async function convertToInteractive(key) {\n",
              "          const element = document.querySelector('#df-8c9da9f0-0547-4d79-a644-f43f34d3de81');\n",
              "          const dataTable =\n",
              "            await google.colab.kernel.invokeFunction('convertToInteractive',\n",
              "                                                     [key], {});\n",
              "          if (!dataTable) return;\n",
              "\n",
              "          const docLinkHtml = 'Like what you see? Visit the ' +\n",
              "            '<a target=\"_blank\" href=https://colab.research.google.com/notebooks/data_table.ipynb>data table notebook</a>'\n",
              "            + ' to learn more about interactive tables.';\n",
              "          element.innerHTML = '';\n",
              "          dataTable['output_type'] = 'display_data';\n",
              "          await google.colab.output.renderOutput(dataTable, element);\n",
              "          const docLink = document.createElement('div');\n",
              "          docLink.innerHTML = docLinkHtml;\n",
              "          element.appendChild(docLink);\n",
              "        }\n",
              "      </script>\n",
              "    </div>\n",
              "  </div>\n",
              "  "
            ]
          },
          "metadata": {},
          "execution_count": 7
        }
      ],
      "source": [
        "# has_spoiler(0: this sentence has no spoiler, 1: this sentence has spoiler)\n",
        "data = data.drop(\"has_spoiler\",axis=1)\n",
        "df = data.rename(columns={\"class\": \"has_spoiler\"}, errors=\"raise\")\n",
        "df.head(3)"
      ]
    },
    {
      "cell_type": "code",
      "source": [
        "df['year'] = pd.DatetimeIndex(df['timestamp']).year.values\n",
        "df = df[df.year>=2011]"
      ],
      "metadata": {
        "id": "M9ztK-fMz5Zm"
      },
      "execution_count": null,
      "outputs": []
    },
    {
      "cell_type": "code",
      "execution_count": null,
      "metadata": {
        "id": "cggxPgUgCdS-"
      },
      "outputs": [],
      "source": [
        "sub_df = df.sample(20000,random_state=21)"
      ]
    },
    {
      "cell_type": "markdown",
      "metadata": {
        "id": "O29vbr5G2mJp"
      },
      "source": [
        "# Step 2: Review preprocessing :"
      ]
    },
    {
      "cell_type": "markdown",
      "source": [
        "First of all, we need to preprocess our data. To do so, we remove every stop words, non-alphabetic characters and break sentences on the basis of punctuations. Then we stem and lemmatize our text. "
      ],
      "metadata": {
        "id": "7bCXvbnGJZpr"
      }
    },
    {
      "cell_type": "code",
      "execution_count": null,
      "metadata": {
        "id": "3Dc_xHYPVEmQ"
      },
      "outputs": [],
      "source": [
        "# process review sentence\n",
        "def process_text(review):\n",
        "    review = review.lower()           # convert to lowercase\n",
        "\n",
        "    review = re.sub(\"[^a-zA-Z#]\", \" \", review)    # Replace numbers, characters with space\n",
        "\n",
        "    regex = re.compile('(?u)\\\\b\\\\w\\\\w+\\\\b')       # Break each sentence on the basis of punctuations, white spaces\n",
        "    stemmer = PorterStemmer()\n",
        "    return \" \".join([stemmer.stem(WordNetLemmatizer().lemmatize(token, pos='v')) for token in regex.findall(review)])\n",
        "\n",
        "sub_df['review_process'] = [process_text(review) for review in sub_df['review']]"
      ]
    },
    {
      "cell_type": "code",
      "execution_count": null,
      "metadata": {
        "colab": {
          "base_uri": "https://localhost:8080/",
          "height": 451
        },
        "id": "ZsN_t_AoH_3C",
        "outputId": "2fccb3b9-9ad1-4d47-8517-2d2ccb4beabc"
      },
      "outputs": [
        {
          "output_type": "execute_result",
          "data": {
            "text/plain": [
              "                              review_id  has_spoiler  \\\n",
              "29753  1b711f779d53794b2e596c1dd5afa34d            0   \n",
              "35291  41a63f400781ad677a304a6e86d0481e            0   \n",
              "66737  9d5c980173341c08d024fe423c198c17            0   \n",
              "\n",
              "                                                  review  book_id  rating  \\\n",
              "29753                                    1st read 8/2010    30183       4   \n",
              "35291  Rating: 3* of five The Publisher Says: Though ...    43641       3   \n",
              "66737  And I say, if books could kill.... I'm so weak...     5526       5   \n",
              "\n",
              "        timestamp                           user_id  \\\n",
              "29753  2016-10-19  defc1a7606a9645b9b21f77ffaacdb72   \n",
              "35291  2017-08-31  ecf5ccec6487c02f20ae6c7a092dc662   \n",
              "66737  2017-01-10  e867288efaacfb887706751491df4546   \n",
              "\n",
              "                             title  year  \\\n",
              "29753  Marked (House of Night  #1)  2016   \n",
              "35291          Water for Elephants  2017   \n",
              "66737                    Dear John  2017   \n",
              "\n",
              "                                          review_process  \n",
              "29753                                            st read  \n",
              "35291  rat of five the publish say though he may not ...  \n",
              "66737  and say if book could kill so weak so emot dra...  "
            ],
            "text/html": [
              "\n",
              "  <div id=\"df-24698a6d-4541-4153-bfc4-8bc47a6f59f8\">\n",
              "    <div class=\"colab-df-container\">\n",
              "      <div>\n",
              "<style scoped>\n",
              "    .dataframe tbody tr th:only-of-type {\n",
              "        vertical-align: middle;\n",
              "    }\n",
              "\n",
              "    .dataframe tbody tr th {\n",
              "        vertical-align: top;\n",
              "    }\n",
              "\n",
              "    .dataframe thead th {\n",
              "        text-align: right;\n",
              "    }\n",
              "</style>\n",
              "<table border=\"1\" class=\"dataframe\">\n",
              "  <thead>\n",
              "    <tr style=\"text-align: right;\">\n",
              "      <th></th>\n",
              "      <th>review_id</th>\n",
              "      <th>has_spoiler</th>\n",
              "      <th>review</th>\n",
              "      <th>book_id</th>\n",
              "      <th>rating</th>\n",
              "      <th>timestamp</th>\n",
              "      <th>user_id</th>\n",
              "      <th>title</th>\n",
              "      <th>year</th>\n",
              "      <th>review_process</th>\n",
              "    </tr>\n",
              "  </thead>\n",
              "  <tbody>\n",
              "    <tr>\n",
              "      <th>29753</th>\n",
              "      <td>1b711f779d53794b2e596c1dd5afa34d</td>\n",
              "      <td>0</td>\n",
              "      <td>1st read 8/2010</td>\n",
              "      <td>30183</td>\n",
              "      <td>4</td>\n",
              "      <td>2016-10-19</td>\n",
              "      <td>defc1a7606a9645b9b21f77ffaacdb72</td>\n",
              "      <td>Marked (House of Night  #1)</td>\n",
              "      <td>2016</td>\n",
              "      <td>st read</td>\n",
              "    </tr>\n",
              "    <tr>\n",
              "      <th>35291</th>\n",
              "      <td>41a63f400781ad677a304a6e86d0481e</td>\n",
              "      <td>0</td>\n",
              "      <td>Rating: 3* of five The Publisher Says: Though ...</td>\n",
              "      <td>43641</td>\n",
              "      <td>3</td>\n",
              "      <td>2017-08-31</td>\n",
              "      <td>ecf5ccec6487c02f20ae6c7a092dc662</td>\n",
              "      <td>Water for Elephants</td>\n",
              "      <td>2017</td>\n",
              "      <td>rat of five the publish say though he may not ...</td>\n",
              "    </tr>\n",
              "    <tr>\n",
              "      <th>66737</th>\n",
              "      <td>9d5c980173341c08d024fe423c198c17</td>\n",
              "      <td>0</td>\n",
              "      <td>And I say, if books could kill.... I'm so weak...</td>\n",
              "      <td>5526</td>\n",
              "      <td>5</td>\n",
              "      <td>2017-01-10</td>\n",
              "      <td>e867288efaacfb887706751491df4546</td>\n",
              "      <td>Dear John</td>\n",
              "      <td>2017</td>\n",
              "      <td>and say if book could kill so weak so emot dra...</td>\n",
              "    </tr>\n",
              "  </tbody>\n",
              "</table>\n",
              "</div>\n",
              "      <button class=\"colab-df-convert\" onclick=\"convertToInteractive('df-24698a6d-4541-4153-bfc4-8bc47a6f59f8')\"\n",
              "              title=\"Convert this dataframe to an interactive table.\"\n",
              "              style=\"display:none;\">\n",
              "        \n",
              "  <svg xmlns=\"http://www.w3.org/2000/svg\" height=\"24px\"viewBox=\"0 0 24 24\"\n",
              "       width=\"24px\">\n",
              "    <path d=\"M0 0h24v24H0V0z\" fill=\"none\"/>\n",
              "    <path d=\"M18.56 5.44l.94 2.06.94-2.06 2.06-.94-2.06-.94-.94-2.06-.94 2.06-2.06.94zm-11 1L8.5 8.5l.94-2.06 2.06-.94-2.06-.94L8.5 2.5l-.94 2.06-2.06.94zm10 10l.94 2.06.94-2.06 2.06-.94-2.06-.94-.94-2.06-.94 2.06-2.06.94z\"/><path d=\"M17.41 7.96l-1.37-1.37c-.4-.4-.92-.59-1.43-.59-.52 0-1.04.2-1.43.59L10.3 9.45l-7.72 7.72c-.78.78-.78 2.05 0 2.83L4 21.41c.39.39.9.59 1.41.59.51 0 1.02-.2 1.41-.59l7.78-7.78 2.81-2.81c.8-.78.8-2.07 0-2.86zM5.41 20L4 18.59l7.72-7.72 1.47 1.35L5.41 20z\"/>\n",
              "  </svg>\n",
              "      </button>\n",
              "      \n",
              "  <style>\n",
              "    .colab-df-container {\n",
              "      display:flex;\n",
              "      flex-wrap:wrap;\n",
              "      gap: 12px;\n",
              "    }\n",
              "\n",
              "    .colab-df-convert {\n",
              "      background-color: #E8F0FE;\n",
              "      border: none;\n",
              "      border-radius: 50%;\n",
              "      cursor: pointer;\n",
              "      display: none;\n",
              "      fill: #1967D2;\n",
              "      height: 32px;\n",
              "      padding: 0 0 0 0;\n",
              "      width: 32px;\n",
              "    }\n",
              "\n",
              "    .colab-df-convert:hover {\n",
              "      background-color: #E2EBFA;\n",
              "      box-shadow: 0px 1px 2px rgba(60, 64, 67, 0.3), 0px 1px 3px 1px rgba(60, 64, 67, 0.15);\n",
              "      fill: #174EA6;\n",
              "    }\n",
              "\n",
              "    [theme=dark] .colab-df-convert {\n",
              "      background-color: #3B4455;\n",
              "      fill: #D2E3FC;\n",
              "    }\n",
              "\n",
              "    [theme=dark] .colab-df-convert:hover {\n",
              "      background-color: #434B5C;\n",
              "      box-shadow: 0px 1px 3px 1px rgba(0, 0, 0, 0.15);\n",
              "      filter: drop-shadow(0px 1px 2px rgba(0, 0, 0, 0.3));\n",
              "      fill: #FFFFFF;\n",
              "    }\n",
              "  </style>\n",
              "\n",
              "      <script>\n",
              "        const buttonEl =\n",
              "          document.querySelector('#df-24698a6d-4541-4153-bfc4-8bc47a6f59f8 button.colab-df-convert');\n",
              "        buttonEl.style.display =\n",
              "          google.colab.kernel.accessAllowed ? 'block' : 'none';\n",
              "\n",
              "        async function convertToInteractive(key) {\n",
              "          const element = document.querySelector('#df-24698a6d-4541-4153-bfc4-8bc47a6f59f8');\n",
              "          const dataTable =\n",
              "            await google.colab.kernel.invokeFunction('convertToInteractive',\n",
              "                                                     [key], {});\n",
              "          if (!dataTable) return;\n",
              "\n",
              "          const docLinkHtml = 'Like what you see? Visit the ' +\n",
              "            '<a target=\"_blank\" href=https://colab.research.google.com/notebooks/data_table.ipynb>data table notebook</a>'\n",
              "            + ' to learn more about interactive tables.';\n",
              "          element.innerHTML = '';\n",
              "          dataTable['output_type'] = 'display_data';\n",
              "          await google.colab.output.renderOutput(dataTable, element);\n",
              "          const docLink = document.createElement('div');\n",
              "          docLink.innerHTML = docLinkHtml;\n",
              "          element.appendChild(docLink);\n",
              "        }\n",
              "      </script>\n",
              "    </div>\n",
              "  </div>\n",
              "  "
            ]
          },
          "metadata": {},
          "execution_count": 12
        }
      ],
      "source": [
        "sub_df.head(3)"
      ]
    },
    {
      "cell_type": "markdown",
      "source": [
        "Now, we need to encode our text data into something that can be used by our baseline model. We encode our data with a bag of words that map a word into it's frequency in the corpus of review."
      ],
      "metadata": {
        "id": "-uxv4PNoJ0Xj"
      }
    },
    {
      "cell_type": "code",
      "execution_count": null,
      "metadata": {
        "id": "DXt_1Fv7Rjdl"
      },
      "outputs": [],
      "source": [
        "def get_feature_vector(X, min_df=0, stop_words=False, ngram_range=(1,1), verbose = True, tokenizer=None, binary=False):\n",
        "  vect = CountVectorizer(min_df=min_df, stop_words = \"english\" if stop_words else None, ngram_range=ngram_range, tokenizer=tokenizer, binary=binary)\n",
        "  vect.fit(X)                                             # Create the vocabulary of words for the given reviews dataset\n",
        "\n",
        "  print(\"Vocabulary size: {}\".format(len(vect.vocabulary_)))\n",
        "\n",
        "  if verbose:\n",
        "    feature_names = vect.get_feature_names()\n",
        "    print(\"Number of features: {}\".format(len(feature_names)))\n",
        "\n",
        "  bag_of_words = vect.transform(X)               # Transform the reviews into feature vector\n",
        "  bag_of_words_norm = normalize(bag_of_words, norm='l2')  # Normalize the feature vectors obtained\n",
        "\n",
        "  return bag_of_words_norm, vect"
      ]
    },
    {
      "cell_type": "code",
      "execution_count": null,
      "metadata": {
        "colab": {
          "base_uri": "https://localhost:8080/"
        },
        "id": "XP6ZGdmzSH3v",
        "outputId": "977b1bf7-eb19-4943-d88b-13d46ad450e8"
      },
      "outputs": [
        {
          "output_type": "stream",
          "name": "stdout",
          "text": [
            "Vocabulary size: 930\n",
            "Number of features: 930\n"
          ]
        },
        {
          "output_type": "stream",
          "name": "stderr",
          "text": [
            "/usr/local/lib/python3.7/dist-packages/sklearn/utils/deprecation.py:87: FutureWarning: Function get_feature_names is deprecated; get_feature_names is deprecated in 1.0 and will be removed in 1.2. Please use get_feature_names_out instead.\n",
            "  warnings.warn(msg, category=FutureWarning)\n"
          ]
        }
      ],
      "source": [
        "bag_of_words_norm, vect = get_feature_vector(sub_df['review_process'],min_df=200,stop_words=True)"
      ]
    },
    {
      "cell_type": "code",
      "execution_count": null,
      "metadata": {
        "colab": {
          "base_uri": "https://localhost:8080/"
        },
        "id": "FQTBITh6o_Yv",
        "outputId": "85e83f01-8444-42c6-ac4d-85241a2ce3b7"
      },
      "outputs": [
        {
          "output_type": "stream",
          "name": "stderr",
          "text": [
            "/usr/local/lib/python3.7/dist-packages/sklearn/utils/deprecation.py:87: FutureWarning: Function get_feature_names is deprecated; get_feature_names is deprecated in 1.0 and will be removed in 1.2. Please use get_feature_names_out instead.\n",
            "  warnings.warn(msg, category=FutureWarning)\n"
          ]
        }
      ],
      "source": [
        "features = pd.DataFrame(bag_of_words_norm.toarray(),columns=vect.get_feature_names())"
      ]
    },
    {
      "cell_type": "markdown",
      "metadata": {
        "id": "5e0WRntY28wS"
      },
      "source": [
        "# Step3: Baseline Model"
      ]
    },
    {
      "cell_type": "markdown",
      "source": [
        "We split the data set into train set and test set by 9:1. SVM with linear kernel is our baseline model. For our baseline model, we opted for the SVM. Indeed, it is a classic machine learning algorithm that have good perfomance in classification tasks."
      ],
      "metadata": {
        "id": "yEfI4W32KX1W"
      }
    },
    {
      "cell_type": "code",
      "execution_count": null,
      "metadata": {
        "id": "JDRUiUFLWOFy"
      },
      "outputs": [],
      "source": [
        "X_train, X_test, y_train, y_test = train_test_split(features, sub_df['has_spoiler'], test_size=0.1, random_state=21, stratify=sub_df['has_spoiler'])"
      ]
    },
    {
      "cell_type": "code",
      "source": [
        "# linear SVM\n",
        "start = time.time()\n",
        "svm = SVC(kernel=\"linear\",C=1,gamma=1)\n",
        "svm.probability=True\n",
        "svm.fit(X_train,y_train)\n",
        "end = time.time()\n",
        "print('Training time of SVM:', round(end-start,3), 'seconds')"
      ],
      "metadata": {
        "colab": {
          "base_uri": "https://localhost:8080/"
        },
        "id": "zJBgc4Uifqw7",
        "outputId": "f6816f82-8446-4c78-85ba-2a3e3ad91a1e"
      },
      "execution_count": null,
      "outputs": [
        {
          "output_type": "stream",
          "name": "stdout",
          "text": [
            "Training time of SVM: 151.176 seconds\n"
          ]
        }
      ]
    },
    {
      "cell_type": "code",
      "source": [
        "print(\"Testing accuracy: \" + str(svm.score(X_test, y_test)))\n",
        "y_pred = svm.predict(X_test)\n",
        "y_test_pred = svm.decision_function(X_test) \n",
        "fpr1, tpr1, _ = roc_curve(y_test,  y_test_pred)\n",
        "\n",
        "print(\"Precision on test data: \" + str(precision_score(y_test, y_pred)))\n",
        "print(\"Recall on test data: \" + str(recall_score(y_test, y_pred)))\n",
        "print(\"f1 score on test data: \" + str(f1_score(y_test, y_pred)))\n",
        "print(\"AUC on test data: \" + str(roc_auc_score(y_test, y_test_pred)))"
      ],
      "metadata": {
        "colab": {
          "base_uri": "https://localhost:8080/"
        },
        "id": "SPAmaSXLfv2-",
        "outputId": "600a381c-9bd4-4a1b-86d2-f703702437e6"
      },
      "execution_count": null,
      "outputs": [
        {
          "output_type": "stream",
          "name": "stdout",
          "text": [
            "Testing accuracy: 0.955\n",
            "Precision on test data: 0.4\n",
            "Recall on test data: 0.02247191011235955\n",
            "f1 score on test data: 0.0425531914893617\n",
            "AUC on test data: 0.9016074882848559\n"
          ]
        }
      ]
    },
    {
      "cell_type": "markdown",
      "source": [
        "As we can see from those results, the model as a good accuracy but actually failed to predict when there is a spoiler as suggest the low AUC score. This is due to the nature of our data which is imbalanced ! We are close to randomly telling when there is a spoiler or not."
      ],
      "metadata": {
        "id": "ia7TpPnQLQNW"
      }
    },
    {
      "cell_type": "markdown",
      "source": [
        "One way to significantly improve ou results is to balance our SVM algorithm."
      ],
      "metadata": {
        "id": "fc2Cw4hNLwjR"
      }
    },
    {
      "cell_type": "code",
      "execution_count": null,
      "metadata": {
        "id": "Q0_OXK_AwszV",
        "colab": {
          "base_uri": "https://localhost:8080/"
        },
        "outputId": "5f40929f-e40d-4445-bd25-4eb9b5612164"
      },
      "outputs": [
        {
          "output_type": "stream",
          "name": "stdout",
          "text": [
            "Training time of Weighted SVM: 109.19 seconds\n"
          ]
        }
      ],
      "source": [
        "# Balanced SVM\n",
        "# Solution: weighted SVM\n",
        "ratio = np.sum([y_train==1])/len(y_train)\n",
        "wsvm = SVC(kernel=\"linear\",C=1,gamma=1,class_weight={1:(1/ratio)})\n",
        "start = time.time()\n",
        "wsvm.fit(X_train,y_train)\n",
        "end = time.time()\n",
        "print('Training time of Weighted SVM:', round(end-start,3), 'seconds')"
      ]
    },
    {
      "cell_type": "code",
      "execution_count": null,
      "metadata": {
        "colab": {
          "base_uri": "https://localhost:8080/"
        },
        "id": "Glby4eSn2jeJ",
        "outputId": "ec1f1df4-0c70-43f7-8065-6fee6f4dc0a7"
      },
      "outputs": [
        {
          "output_type": "stream",
          "name": "stdout",
          "text": [
            "Testing accuracy: 0.88\n",
            "Precision on test data: 0.24054982817869416\n",
            "Recall on test data: 0.7865168539325843\n",
            "f1 score on test data: 0.368421052631579\n",
            "AUC on test data: 0.9049882701568095\n"
          ]
        }
      ],
      "source": [
        "print(\"Testing accuracy: \" + str(wsvm.score(X_test, y_test)))\n",
        "y_pred = wsvm.predict(X_test)\n",
        "y_test_pred = wsvm.decision_function(X_test) \n",
        "fpr2, tpr2, _ = roc_curve(y_test,  y_test_pred)\n",
        "print(\"Precision on test data: \" + str(precision_score(y_test, y_pred)))\n",
        "print(\"Recall on test data: \" + str(recall_score(y_test, y_pred)))\n",
        "print(\"f1 score on test data: \" + str(f1_score(y_test, y_pred)))\n",
        "print(\"AUC on test data: \" + str(roc_auc_score(y_test, y_test_pred)))"
      ]
    },
    {
      "cell_type": "markdown",
      "source": [
        "As expected it boost our results significantly! The ROC curve is now relatively far away to the random curve."
      ],
      "metadata": {
        "id": "9vWkrHJrL7r9"
      }
    },
    {
      "cell_type": "markdown",
      "source": [
        "We plot below the most signficant words to predict a spoiler according to our SVM."
      ],
      "metadata": {
        "id": "G3LpBUlEMzVI"
      }
    },
    {
      "cell_type": "code",
      "source": [
        "labels = features.columns\n",
        "theta_word_count = np.array(svm.coef_.reshape(-1))\n",
        "result = pd.DataFrame({'words':labels, \n",
        "                       'coef': theta_word_count})\n",
        "sort_result = result.sort_values(by='coef', key = lambda x:abs(x), ascending=False).iloc[0:50]\n",
        "sort_result.head()"
      ],
      "metadata": {
        "colab": {
          "base_uri": "https://localhost:8080/",
          "height": 206
        },
        "id": "KbtuHJwxjtys",
        "outputId": "04104cde-5b04-4ade-8cd3-fd7973d72ccd"
      },
      "execution_count": null,
      "outputs": [
        {
          "output_type": "execute_result",
          "data": {
            "text/plain": [
              "      words      coef\n",
              "725   shoot  2.509725\n",
              "23    alert -2.495762\n",
              "210     die  2.362985\n",
              "439    kill  2.173229\n",
              "282  famili -1.518742"
            ],
            "text/html": [
              "\n",
              "  <div id=\"df-e8ac6ed6-becd-46fa-a0d4-a75e4a306b95\">\n",
              "    <div class=\"colab-df-container\">\n",
              "      <div>\n",
              "<style scoped>\n",
              "    .dataframe tbody tr th:only-of-type {\n",
              "        vertical-align: middle;\n",
              "    }\n",
              "\n",
              "    .dataframe tbody tr th {\n",
              "        vertical-align: top;\n",
              "    }\n",
              "\n",
              "    .dataframe thead th {\n",
              "        text-align: right;\n",
              "    }\n",
              "</style>\n",
              "<table border=\"1\" class=\"dataframe\">\n",
              "  <thead>\n",
              "    <tr style=\"text-align: right;\">\n",
              "      <th></th>\n",
              "      <th>words</th>\n",
              "      <th>coef</th>\n",
              "    </tr>\n",
              "  </thead>\n",
              "  <tbody>\n",
              "    <tr>\n",
              "      <th>725</th>\n",
              "      <td>shoot</td>\n",
              "      <td>2.509725</td>\n",
              "    </tr>\n",
              "    <tr>\n",
              "      <th>23</th>\n",
              "      <td>alert</td>\n",
              "      <td>-2.495762</td>\n",
              "    </tr>\n",
              "    <tr>\n",
              "      <th>210</th>\n",
              "      <td>die</td>\n",
              "      <td>2.362985</td>\n",
              "    </tr>\n",
              "    <tr>\n",
              "      <th>439</th>\n",
              "      <td>kill</td>\n",
              "      <td>2.173229</td>\n",
              "    </tr>\n",
              "    <tr>\n",
              "      <th>282</th>\n",
              "      <td>famili</td>\n",
              "      <td>-1.518742</td>\n",
              "    </tr>\n",
              "  </tbody>\n",
              "</table>\n",
              "</div>\n",
              "      <button class=\"colab-df-convert\" onclick=\"convertToInteractive('df-e8ac6ed6-becd-46fa-a0d4-a75e4a306b95')\"\n",
              "              title=\"Convert this dataframe to an interactive table.\"\n",
              "              style=\"display:none;\">\n",
              "        \n",
              "  <svg xmlns=\"http://www.w3.org/2000/svg\" height=\"24px\"viewBox=\"0 0 24 24\"\n",
              "       width=\"24px\">\n",
              "    <path d=\"M0 0h24v24H0V0z\" fill=\"none\"/>\n",
              "    <path d=\"M18.56 5.44l.94 2.06.94-2.06 2.06-.94-2.06-.94-.94-2.06-.94 2.06-2.06.94zm-11 1L8.5 8.5l.94-2.06 2.06-.94-2.06-.94L8.5 2.5l-.94 2.06-2.06.94zm10 10l.94 2.06.94-2.06 2.06-.94-2.06-.94-.94-2.06-.94 2.06-2.06.94z\"/><path d=\"M17.41 7.96l-1.37-1.37c-.4-.4-.92-.59-1.43-.59-.52 0-1.04.2-1.43.59L10.3 9.45l-7.72 7.72c-.78.78-.78 2.05 0 2.83L4 21.41c.39.39.9.59 1.41.59.51 0 1.02-.2 1.41-.59l7.78-7.78 2.81-2.81c.8-.78.8-2.07 0-2.86zM5.41 20L4 18.59l7.72-7.72 1.47 1.35L5.41 20z\"/>\n",
              "  </svg>\n",
              "      </button>\n",
              "      \n",
              "  <style>\n",
              "    .colab-df-container {\n",
              "      display:flex;\n",
              "      flex-wrap:wrap;\n",
              "      gap: 12px;\n",
              "    }\n",
              "\n",
              "    .colab-df-convert {\n",
              "      background-color: #E8F0FE;\n",
              "      border: none;\n",
              "      border-radius: 50%;\n",
              "      cursor: pointer;\n",
              "      display: none;\n",
              "      fill: #1967D2;\n",
              "      height: 32px;\n",
              "      padding: 0 0 0 0;\n",
              "      width: 32px;\n",
              "    }\n",
              "\n",
              "    .colab-df-convert:hover {\n",
              "      background-color: #E2EBFA;\n",
              "      box-shadow: 0px 1px 2px rgba(60, 64, 67, 0.3), 0px 1px 3px 1px rgba(60, 64, 67, 0.15);\n",
              "      fill: #174EA6;\n",
              "    }\n",
              "\n",
              "    [theme=dark] .colab-df-convert {\n",
              "      background-color: #3B4455;\n",
              "      fill: #D2E3FC;\n",
              "    }\n",
              "\n",
              "    [theme=dark] .colab-df-convert:hover {\n",
              "      background-color: #434B5C;\n",
              "      box-shadow: 0px 1px 3px 1px rgba(0, 0, 0, 0.15);\n",
              "      filter: drop-shadow(0px 1px 2px rgba(0, 0, 0, 0.3));\n",
              "      fill: #FFFFFF;\n",
              "    }\n",
              "  </style>\n",
              "\n",
              "      <script>\n",
              "        const buttonEl =\n",
              "          document.querySelector('#df-e8ac6ed6-becd-46fa-a0d4-a75e4a306b95 button.colab-df-convert');\n",
              "        buttonEl.style.display =\n",
              "          google.colab.kernel.accessAllowed ? 'block' : 'none';\n",
              "\n",
              "        async function convertToInteractive(key) {\n",
              "          const element = document.querySelector('#df-e8ac6ed6-becd-46fa-a0d4-a75e4a306b95');\n",
              "          const dataTable =\n",
              "            await google.colab.kernel.invokeFunction('convertToInteractive',\n",
              "                                                     [key], {});\n",
              "          if (!dataTable) return;\n",
              "\n",
              "          const docLinkHtml = 'Like what you see? Visit the ' +\n",
              "            '<a target=\"_blank\" href=https://colab.research.google.com/notebooks/data_table.ipynb>data table notebook</a>'\n",
              "            + ' to learn more about interactive tables.';\n",
              "          element.innerHTML = '';\n",
              "          dataTable['output_type'] = 'display_data';\n",
              "          await google.colab.output.renderOutput(dataTable, element);\n",
              "          const docLink = document.createElement('div');\n",
              "          docLink.innerHTML = docLinkHtml;\n",
              "          element.appendChild(docLink);\n",
              "        }\n",
              "      </script>\n",
              "    </div>\n",
              "  </div>\n",
              "  "
            ]
          },
          "metadata": {},
          "execution_count": 20
        }
      ]
    },
    {
      "cell_type": "code",
      "source": [
        "%matplotlib inline\n",
        "\n",
        "labels = sort_result.words\n",
        "theta_word_count = sort_result.coef\n",
        "\n",
        "x = np.arange(len(labels))  # the label locations\n",
        "width = 0.35  # the width of the bars\n",
        "\n",
        "fig, ax = plt.subplots(figsize=(50, 20))\n",
        "rects1 = ax.bar(list(range(50)), theta_word_count, label='Word Count', color='orange')\n",
        "ax.tick_params(axis='both', which='major', labelsize=30)\n",
        "\n",
        "# Add some text for labels, title and custom x-axis tick labels, etc.\n",
        "ax.set_ylabel('Coef')\n",
        "ax.set_title('Coefficient of Word Count')\n",
        "ax.set_xticks(x)\n",
        "plt.setp(ax.get_xticklabels(), rotation=60)\n",
        "ax.set_xticklabels(labels)\n",
        "ax.legend()\n",
        "\n",
        "fig.tight_layout()\n",
        "\n",
        "plt.show()"
      ],
      "metadata": {
        "colab": {
          "base_uri": "https://localhost:8080/",
          "height": 581
        },
        "id": "zQG1VnHCi74T",
        "outputId": "1612525d-ef7a-49ab-d2ec-130e4ccc5b4e"
      },
      "execution_count": null,
      "outputs": [
        {
          "output_type": "display_data",
          "data": {
            "text/plain": [
              "<Figure size 3600x1440 with 1 Axes>"
            ],
            "image/png": "[encoded data removed]"
          },
          "metadata": {
            "needs_background": "light"
          }
        }
      ]
    },
    {
      "cell_type": "markdown",
      "metadata": {
        "id": "8SgOm8I6YMO5"
      },
      "source": [
        "# Step 4: LSTM\n"
      ]
    },
    {
      "cell_type": "markdown",
      "source": [
        "In this section, we evaluate the performance of deep neural network for this task and see if they can have a better performance than the weigthed SVM."
      ],
      "metadata": {
        "id": "3cQ0eHPLHByI"
      }
    },
    {
      "cell_type": "markdown",
      "source": [
        "As for the SVM, we need to tokenize our text and encode it into something that the LSTM could understand. We make use of the ```Tokenizer``` from tensorflow that basically maps each word to a unique integer."
      ],
      "metadata": {
        "id": "wAzcp0pAHTyY"
      }
    },
    {
      "cell_type": "code",
      "execution_count": null,
      "metadata": {
        "id": "Om7DwE7BSPvo"
      },
      "outputs": [],
      "source": [
        "# LSTM\n",
        "import seaborn as sns\n",
        "from sklearn.preprocessing import LabelEncoder\n",
        "import tensorflow as tf\n",
        "from tensorflow.keras.models import Model\n",
        "from tensorflow.keras.layers import LSTM, Activation, Dense, Dropout, Input, Embedding\n",
        "from tensorflow.keras.optimizers import Adam\n",
        "from tensorflow.keras.preprocessing.text import Tokenizer\n",
        "from tensorflow.keras.preprocessing import sequence\n",
        "from tensorflow.keras.utils import to_categorical\n",
        "from tensorflow.keras.callbacks import EarlyStopping\n",
        "%matplotlib inline\n",
        "\n",
        "X = sub_df.review_process\n",
        "Y = sub_df.has_spoiler\n",
        "le = LabelEncoder()\n",
        "Y = le.fit_transform(Y)\n",
        "Y = Y.reshape(-1,1)\n",
        "\n",
        "max_words = 6000\n",
        "max_len = 500\n",
        "tok = Tokenizer(num_words=max_words)\n",
        "tok.fit_on_texts(X)\n",
        "sequences = tok.texts_to_sequences(X)\n",
        "sequences_matrix = sequence.pad_sequences(sequences,maxlen=max_len)"
      ]
    },
    {
      "cell_type": "code",
      "execution_count": null,
      "metadata": {
        "id": "MJin4ePoWK9r"
      },
      "outputs": [],
      "source": [
        "features2 = pd.DataFrame(sequences_matrix)"
      ]
    },
    {
      "cell_type": "markdown",
      "source": [
        "Once we have our encoded text, we split it into a training and a test set :"
      ],
      "metadata": {
        "id": "sREeVtlrHqTO"
      }
    },
    {
      "cell_type": "code",
      "execution_count": null,
      "metadata": {
        "id": "h_zVZ53iXDqu"
      },
      "outputs": [],
      "source": [
        "X_train2, X_test2, y_train2, y_test2 = train_test_split(features2, Y, test_size=0.1, random_state=21)\n",
        "review_train, review_test = train_test_split(sub_df['review'], test_size=0.1, random_state=21)"
      ]
    },
    {
      "cell_type": "markdown",
      "source": [
        "Below we define a basic LSTM network and have a look at its performance and our data set."
      ],
      "metadata": {
        "id": "yF10hT12Hzr7"
      }
    },
    {
      "cell_type": "code",
      "execution_count": null,
      "metadata": {
        "id": "2Gl_8aJ6TUvo"
      },
      "outputs": [],
      "source": [
        "def my_LSTM():\n",
        "    inputs = Input(name='inputs',shape=[max_len])\n",
        "    layer = Embedding(max_words,100,input_length=max_len)(inputs)\n",
        "    layer = LSTM(64)(layer)\n",
        "    layer = Dense(256,name='FC1')(layer)\n",
        "    layer = Activation('relu')(layer)\n",
        "    layer = Dropout(0.5)(layer)\n",
        "    layer = Dense(1,name='out_layer')(layer)\n",
        "    layer = Activation('sigmoid')(layer)\n",
        "    model = Model(inputs=inputs,outputs=layer)\n",
        "    return model"
      ]
    },
    {
      "cell_type": "code",
      "execution_count": null,
      "metadata": {
        "id": "N_ZtguURTP9y",
        "colab": {
          "base_uri": "https://localhost:8080/"
        },
        "outputId": "a7402492-63be-4071-97f4-bda313a1199a"
      },
      "outputs": [
        {
          "output_type": "stream",
          "name": "stdout",
          "text": [
            "Model: \"model_6\"\n",
            "_________________________________________________________________\n",
            " Layer (type)                Output Shape              Param #   \n",
            "=================================================================\n",
            " inputs (InputLayer)         [(None, 500)]             0         \n",
            "                                                                 \n",
            " embedding_6 (Embedding)     (None, 500, 100)          600000    \n",
            "                                                                 \n",
            " lstm_6 (LSTM)               (None, 64)                42240     \n",
            "                                                                 \n",
            " FC1 (Dense)                 (None, 256)               16640     \n",
            "                                                                 \n",
            " activation_4 (Activation)   (None, 256)               0         \n",
            "                                                                 \n",
            " dropout_6 (Dropout)         (None, 256)               0         \n",
            "                                                                 \n",
            " out_layer (Dense)           (None, 1)                 257       \n",
            "                                                                 \n",
            " activation_5 (Activation)   (None, 1)                 0         \n",
            "                                                                 \n",
            "=================================================================\n",
            "Total params: 659,137\n",
            "Trainable params: 659,137\n",
            "Non-trainable params: 0\n",
            "_________________________________________________________________\n"
          ]
        }
      ],
      "source": [
        "model = my_LSTM()\n",
        "model.compile(loss='binary_crossentropy',optimizer=Adam(),metrics=['accuracy',tf.keras.metrics.AUC(name=\"AUC\")])\n",
        "model.summary()"
      ]
    },
    {
      "cell_type": "code",
      "execution_count": null,
      "metadata": {
        "colab": {
          "base_uri": "https://localhost:8080/"
        },
        "id": "FEZsefO7TYP8",
        "outputId": "cc77873a-4d8d-4bf4-f997-3d097111d420"
      },
      "outputs": [
        {
          "output_type": "stream",
          "name": "stdout",
          "text": [
            "Epoch 1/10\n",
            "127/127 [==============================] - 16s 104ms/step - loss: 0.2193 - accuracy: 0.9541 - AUC: 0.5593 - val_loss: 0.1830 - val_accuracy: 0.9467 - val_AUC: 0.8027\n",
            "Epoch 2/10\n",
            "127/127 [==============================] - 11s 85ms/step - loss: 0.1168 - accuracy: 0.9617 - AUC: 0.8966 - val_loss: 0.1484 - val_accuracy: 0.9539 - val_AUC: 0.8709\n",
            "Epoch 3/10\n",
            "127/127 [==============================] - 11s 84ms/step - loss: 0.0777 - accuracy: 0.9744 - AUC: 0.9538 - val_loss: 0.1468 - val_accuracy: 0.9606 - val_AUC: 0.8535\n",
            "Epoch 4/10\n",
            "127/127 [==============================] - 11s 84ms/step - loss: 0.0674 - accuracy: 0.9762 - AUC: 0.9666 - val_loss: 0.1872 - val_accuracy: 0.9561 - val_AUC: 0.8204\n",
            "Epoch 5/10\n",
            "127/127 [==============================] - 11s 83ms/step - loss: 0.0426 - accuracy: 0.9861 - AUC: 0.9830 - val_loss: 0.1900 - val_accuracy: 0.9500 - val_AUC: 0.8219\n",
            "Training time of LSTM: 59.153 seconds\n"
          ]
        }
      ],
      "source": [
        "start = time.time()\n",
        "history = model.fit(X_train2,y_train2,batch_size=128,epochs=10,\n",
        "          validation_split=0.1,callbacks=[EarlyStopping(monitor='val_loss',patience=2)])\n",
        "end = time.time()\n",
        "print('Training time of LSTM:', round(end-start,3), 'seconds')"
      ]
    },
    {
      "cell_type": "code",
      "execution_count": null,
      "metadata": {
        "id": "UpHupXMLUIGb",
        "colab": {
          "base_uri": "https://localhost:8080/"
        },
        "outputId": "8c14dc25-ceaf-4422-8ed0-6c4125f0d0bd"
      },
      "outputs": [
        {
          "output_type": "stream",
          "name": "stdout",
          "text": [
            "63/63 [==============================] - 2s 36ms/step - loss: 0.1863 - accuracy: 0.9520 - AUC: 0.8140\n",
            "Testing accuracy: 0.9520000219345093\n",
            "Precision on test data: 0.5294117647058824\n",
            "Recall on test data: 0.2727272727272727\n",
            "f1 score on test data: 0.36\n",
            "AUC on test data: 0.8308067524269523\n"
          ]
        }
      ],
      "source": [
        "scores = model.predict(X_test2, verbose=0)\n",
        "yhat_class2 = [1 if score>0.5 else 0 for score in scores]\n",
        "fpr3, tpr3, _ = roc_curve(y_test2,  scores)\n",
        "\n",
        "print(\"Testing accuracy: \" + str(model.evaluate(X_test2,y_test2)[1]))\n",
        "print(\"Precision on test data: \" + str(precision_score(y_test2, yhat_class2)))\n",
        "print(\"Recall on test data: \" + str(recall_score(y_test2, yhat_class2)))\n",
        "print(\"f1 score on test data: \" + str(f1_score(y_test2, yhat_class2)))\n",
        "print(\"AUC on test data: \" + str(roc_auc_score(y_test2, scores)))"
      ]
    },
    {
      "cell_type": "markdown",
      "source": [
        "We can see that even though we don't tackle the imbalance problem, we manadge to reach a good level of AUC."
      ],
      "metadata": {
        "id": "fH4qvgxuIm8_"
      }
    },
    {
      "cell_type": "markdown",
      "source": [
        "But again, we know that our data is imbalance and that's an issue to tackle. To do so, we make use of oversampling. We augment our data to make sure that we end up with a balanced data set."
      ],
      "metadata": {
        "id": "bG2BsP2fI0VS"
      }
    },
    {
      "cell_type": "code",
      "execution_count": null,
      "metadata": {
        "id": "qNb8Rl0lZIa0"
      },
      "outputs": [],
      "source": [
        "# Balanced LSTM\n",
        "# Solution: Oversampling\n",
        "oversample = RandomOverSampler(sampling_strategy='minority')\n",
        "X_train_o2, y_train_o2 = oversample.fit_resample(X_train2, y_train2)"
      ]
    },
    {
      "cell_type": "code",
      "execution_count": null,
      "metadata": {
        "id": "Q4aNny0OZ8CL"
      },
      "outputs": [],
      "source": [
        "model_bal = my_LSTM()\n",
        "model_bal.compile(loss='binary_crossentropy',optimizer=Adam(),metrics=['accuracy'])"
      ]
    },
    {
      "cell_type": "code",
      "execution_count": null,
      "metadata": {
        "colab": {
          "base_uri": "https://localhost:8080/"
        },
        "id": "Li6xrrHSaAcd",
        "outputId": "9a75c1c0-ad58-4c0b-95ec-5181b142bc34"
      },
      "outputs": [
        {
          "output_type": "stream",
          "name": "stdout",
          "text": [
            "Epoch 1/10\n",
            "242/242 [==============================] - 24s 85ms/step - loss: 0.2485 - accuracy: 0.8873 - val_loss: 0.0611 - val_accuracy: 0.9893\n",
            "Epoch 2/10\n",
            "242/242 [==============================] - 20s 81ms/step - loss: 0.0591 - accuracy: 0.9826 - val_loss: 0.0296 - val_accuracy: 0.9980\n",
            "Training time of Balanced LSTM: 44.248 seconds\n"
          ]
        }
      ],
      "source": [
        "start = time.time()\n",
        "model_bal.fit(X_train_o2,y_train_o2,batch_size=128,epochs=10,\n",
        "          validation_split=0.1,callbacks=[EarlyStopping(monitor='val_loss',min_delta=0.0001)])\n",
        "end = time.time()\n",
        "print('Training time of Balanced LSTM:', round(end-start,3), 'seconds')"
      ]
    },
    {
      "cell_type": "code",
      "execution_count": null,
      "metadata": {
        "colab": {
          "base_uri": "https://localhost:8080/"
        },
        "id": "KDGXNIrJaJ-0",
        "outputId": "6c4d44c2-6d51-49e4-87b3-d79e7450cb02"
      },
      "outputs": [
        {
          "output_type": "stream",
          "name": "stdout",
          "text": [
            "63/63 [==============================] - 2s 36ms/step - loss: 0.2780 - accuracy: 0.9480\n",
            "Testing accuracy: 0.9480000138282776\n",
            "Precision on test data: 0.4731182795698925\n",
            "Recall on test data: 0.4444444444444444\n",
            "f1 score on test data: 0.45833333333333337\n",
            "AUC on test data: 0.8581820307227986\n"
          ]
        }
      ],
      "source": [
        "scores = model_bal.predict(X_test2, verbose=0)\n",
        "yhat_class_o2 = np.array([1 if score>0.5 else 0 for score in scores])\n",
        "y_test2 = y_test2.flatten()\n",
        "fpr4, tpr4, _ = roc_curve(y_test2,  scores)\n",
        "\n",
        "print(\"Testing accuracy: \" + str(model_bal.evaluate(X_test2,y_test2)[1]))\n",
        "print(\"Precision on test data: \" + str(precision_score(y_test2, yhat_class_o2)))\n",
        "print(\"Recall on test data: \" + str(recall_score(y_test2, yhat_class_o2)))\n",
        "print(\"f1 score on test data: \" + str(f1_score(y_test2, yhat_class_o2)))\n",
        "print(\"AUC on test data: \" + str(roc_auc_score(y_test2, scores)))"
      ]
    },
    {
      "cell_type": "markdown",
      "source": [
        "### Attention-LSTM with weighted loss:\n",
        "\n"
      ],
      "metadata": {
        "id": "oHRrvYAD3dOk"
      }
    },
    {
      "cell_type": "markdown",
      "source": [
        "To boost even more our model, we can use of a Bidirectionnal LSTM and add an attention layer afterward to select the most important words. Also instead of oversampling, we balanced the loss by adding weights :\n",
        "$$l = w_p\\textrm{log}(\\hat{p})+w_n\\textrm{log}(1-\\hat{p})$$"
      ],
      "metadata": {
        "id": "sO1K6IqdOAgq"
      }
    },
    {
      "cell_type": "code",
      "source": [
        "# !wget http://nlp.stanford.edu/data/glove.6B.zip\n",
        "# !unzip -q glove.6B.zip\n",
        "import os\n",
        "import pathlib\n",
        "\n",
        "path_to_glove_file = os.path.join(\n",
        "    os.path.expanduser(\"~\"), \"/gdrive/MyDrive/ads_proj5/ads-spring-2022-prj5-group-4/lib/glove.6B.100d.txt\"\n",
        ")\n",
        "\n",
        "embeddings_index = {}\n",
        "with open(path_to_glove_file) as f:\n",
        "    for line in f:\n",
        "        word, coefs = line.split(maxsplit=1)\n",
        "        coefs = np.fromstring(coefs, \"f\", sep=\" \")\n",
        "        embeddings_index[word] = coefs\n",
        "\n",
        "# LSTM\n",
        "from keras import backend as K\n",
        "import pandas as pd\n",
        "import numpy as np\n",
        "import seaborn as sns\n",
        "from sklearn.model_selection import train_test_split\n",
        "from sklearn.preprocessing import LabelEncoder\n",
        "import tensorflow as tf\n",
        "from tensorflow import keras\n",
        "from tensorflow.keras.models import Model\n",
        "from tensorflow.keras.layers import LSTM, Activation, Dense, Dropout, Input, Embedding\n",
        "from tensorflow.keras.optimizers import Adam\n",
        "from tensorflow.keras.preprocessing.text import Tokenizer\n",
        "from tensorflow.keras.preprocessing import sequence\n",
        "from tensorflow.keras.utils import to_categorical\n",
        "from tensorflow.keras.callbacks import EarlyStopping\n",
        "from sklearn.preprocessing import normalize\n",
        "%matplotlib inline\n",
        "max_words = 6000\n",
        "max_len = 500\n",
        "\n",
        "\n",
        "X = sub_df.review_process\n",
        "Y = sub_df.has_spoiler\n",
        "le = LabelEncoder()\n",
        "Y = le.fit_transform(Y)\n",
        "Y = Y.reshape(-1,1)\n",
        "\n",
        "from tensorflow.keras import layers\n",
        "from tensorflow.keras.layers import TextVectorization\n",
        "\n",
        "vectorizer = TextVectorization(max_tokens=max_words, output_sequence_length=max_len)\n",
        "text_ds = tf.data.Dataset.from_tensor_slices(X).batch(128)\n",
        "vectorizer.adapt(text_ds)\n",
        "voc = vectorizer.get_vocabulary()\n",
        "word_index = dict(zip(voc, range(len(voc))))\n",
        "num_tokens = len(voc)\n",
        "embedding_dim = 100\n",
        "hits = 0\n",
        "misses = 0\n",
        "\n",
        "# Prepare embedding matrix\n",
        "embedding_matrix = np.zeros((num_tokens, embedding_dim))\n",
        "for word, i in word_index.items():\n",
        "    embedding_vector = embeddings_index.get(word)\n",
        "    if embedding_vector is not None:\n",
        "        # Words not found in embedding index will be all-zeros.\n",
        "        # This includes the representation for \"padding\" and \"OOV\"\n",
        "        embedding_matrix[i] = embedding_vector\n",
        "        hits += 1\n",
        "    else:\n",
        "        misses += 1\n",
        "print(\"Converted %d words (%d misses)\" % (hits, misses))\n",
        "tok = Tokenizer(num_words=max_words)\n",
        "tok.fit_on_texts(X)\n",
        "sequences = tok.texts_to_sequences(X)\n",
        "sequences_matrix = sequence.pad_sequences(sequences,maxlen=max_len)\n",
        "features = pd.DataFrame(sequences_matrix)\n",
        "X_train, X_test, y_train, y_test = train_test_split(features, Y, test_size=0.1, random_state=21, stratify=Y)"
      ],
      "metadata": {
        "id": "ZLPWORLt3lYG",
        "colab": {
          "base_uri": "https://localhost:8080/"
        },
        "outputId": "b263b3e8-02bc-4da4-8b99-be2fc036830a"
      },
      "execution_count": null,
      "outputs": [
        {
          "output_type": "stream",
          "name": "stdout",
          "text": [
            "Converted 4305 words (1695 misses)\n"
          ]
        }
      ]
    },
    {
      "cell_type": "code",
      "source": [
        "from tensorflow.keras.layers import Layer\n",
        "from keras import initializers as initializers, regularizers, constraints\n",
        "from keras.utils.np_utils import to_categorical\n",
        "from keras.layers import Embedding, Input, Dense, LSTM, GRU, Bidirectional, TimeDistributed, Dropout\n",
        "from keras import backend as K\n",
        "from keras.models import Model\n",
        "\n",
        "def dot_product(x, kernel):\n",
        "    \"\"\"\n",
        "    Wrapper for dot product operation, in order to be compatibl|e with both\n",
        "    Theano and Tensorflow\n",
        "    Args:\n",
        "        x (): input\n",
        "        kernel (): weights\n",
        "    Returns:\n",
        "    \"\"\"\n",
        "    if K.backend() == 'tensorflow':\n",
        "        return K.squeeze(K.dot(x, K.expand_dims(kernel)), axis=-1)\n",
        "    else:\n",
        "        return K.dot(x, kernel)\n",
        "\n",
        "class AttentionWithContext(Layer):\n",
        "    \"\"\"\n",
        "    Attention operation, with a context/query vector, for temporal data.\n",
        "    Supports Masking.\n",
        "    Follows the work of Yang et al. [https://www.cs.cmu.edu/~diyiy/docs/naacl16.pdf]\n",
        "    \"Hierarchical Attention Networks for Document Classification\"\n",
        "    by using a context vector to assist the attention\n",
        "    # Input shape\n",
        "        3D tensor with shape: `(samples, steps, features)`.\n",
        "    # Output shape\n",
        "        2D tensor with shape: `(samples, features)`.\n",
        "    How to use:\n",
        "    Just put it on top of an RNN Layer (GRU/LSTM/SimpleRNN) with return_sequences=True.\n",
        "    The dimensions are inferred based on the output shape of the RNN.\n",
        "    Note: The layer has been tested with Keras 2.0.6\n",
        "    Example:\n",
        "        model.add(LSTM(64, return_sequences=True))\n",
        "        model.add(AttentionWithContext())\n",
        "        # next add a Dense layer (for classification/regression) or whatever...\n",
        "    \"\"\"\n",
        "\n",
        "    def __init__(self,\n",
        "                 W_regularizer=None, u_regularizer=None, b_regularizer=None,\n",
        "                 W_constraint=None, u_constraint=None, b_constraint=None,\n",
        "                 bias=True, **kwargs):\n",
        "\n",
        "        self.supports_masking = True\n",
        "        self.init = initializers.get('glorot_uniform')\n",
        "\n",
        "        self.W_regularizer = regularizers.get(W_regularizer)\n",
        "        self.u_regularizer = regularizers.get(u_regularizer)\n",
        "        self.b_regularizer = regularizers.get(b_regularizer)\n",
        "\n",
        "        self.W_constraint = constraints.get(W_constraint)\n",
        "        self.u_constraint = constraints.get(u_constraint)\n",
        "        self.b_constraint = constraints.get(b_constraint)\n",
        "\n",
        "        self.bias = bias\n",
        "        super(AttentionWithContext, self).__init__(**kwargs)\n",
        "\n",
        "    def build(self, input_shape):\n",
        "        assert len(input_shape) == 3\n",
        "\n",
        "        self.W = self.add_weight(shape=(input_shape[-1], input_shape[-1],),\n",
        "                                 initializer=self.init,\n",
        "                                 name='{}_W'.format(self.name),\n",
        "                                 regularizer=self.W_regularizer,\n",
        "                                 constraint=self.W_constraint)\n",
        "        if self.bias:\n",
        "            self.b = self.add_weight(shape=(input_shape[-1],),\n",
        "                                     initializer='zero',\n",
        "                                     name='{}_b'.format(self.name),\n",
        "                                     regularizer=self.b_regularizer,\n",
        "                                     constraint=self.b_constraint)\n",
        "\n",
        "        self.u = self.add_weight(shape=(input_shape[-1],),\n",
        "                                 initializer=self.init,\n",
        "                                 name='{}_u'.format(self.name),\n",
        "                                 regularizer=self.u_regularizer,\n",
        "                                 constraint=self.u_constraint)\n",
        "\n",
        "        super(AttentionWithContext, self).build(input_shape)\n",
        "\n",
        "    def compute_mask(self, input, input_mask=None):\n",
        "        # do not pass the mask to the next layers\n",
        "        return None\n",
        "\n",
        "    def call(self, x, mask=None):\n",
        "        uit = dot_product(x, self.W)\n",
        "\n",
        "        if self.bias:\n",
        "            uit += self.b\n",
        "\n",
        "        uit = K.tanh(uit)\n",
        "        ait = dot_product(uit, self.u)\n",
        "\n",
        "        a = K.exp(ait)\n",
        "\n",
        "        # apply mask after the exp. will be re-normalized next\n",
        "        if mask is not None:\n",
        "            # Cast the mask to floatX to avoid float64 upcasting in theano\n",
        "            a *= K.cast(mask, K.floatx())\n",
        "\n",
        "        # in some cases especially in the early stages of training the sum may be almost zero\n",
        "        # and this results in NaN's. A workaround is to add a very small positive number ε to the sum.\n",
        "        # a /= K.cast(K.sum(a, axis=1, keepdims=True), K.floatx())\n",
        "        a /= K.cast(K.sum(a, axis=1, keepdims=True) + K.epsilon(), K.floatx())\n",
        "\n",
        "        a = K.expand_dims(a)\n",
        "        weighted_input = x * a\n",
        "        return K.sum(weighted_input, axis=1)\n",
        "\n",
        "    def compute_output_shape(self, input_shape):\n",
        "        return input_shape[0], input_shape[-1]\n",
        "\n",
        "def SpoilerLSTM():\n",
        "    inputs_text = layers.Input(name='inputs',shape=[max_len])\n",
        "    embbed_input_text = layers.Embedding(max_words,embedding_dim,input_length=max_len,trainable=True,embeddings_initializer=keras.initializers.Constant(embedding_matrix))(inputs_text) # Add to initialize with GloVe embeddings_initializer=keras.initializers.Constant(embedding_matrix)\n",
        "    word_lstm =  layers.Bidirectional(layers.LSTM(64,return_sequences=True))(embbed_input_text)\n",
        "    word_dense = TimeDistributed(Dense(128))(word_lstm)\n",
        "    attention_layer = AttentionWithContext()(word_dense)\n",
        "    layer = layers.Dropout(0.5)(attention_layer)\n",
        "    layer = layers.Dense(1,activation=\"sigmoid\")(layer)\n",
        "    model = Model(inputs=inputs_text,outputs=layer)\n",
        "    return model"
      ],
      "metadata": {
        "id": "pB_nIr868Ybu"
      },
      "execution_count": null,
      "outputs": []
    },
    {
      "cell_type": "code",
      "source": [
        "model = SpoilerLSTM()\n",
        "lr_schedule = tf.keras.optimizers.schedules.ExponentialDecay(\n",
        "        0.003,\n",
        "        decay_steps=100000,\n",
        "        decay_rate=0.9,\n",
        "        staircase=True\n",
        "    )\n",
        "model.compile(loss='binary_crossentropy',optimizer=Adam(learning_rate=lr_schedule),metrics=['accuracy',tf.keras.metrics.AUC(name=\"AUC\")])\n",
        "\n",
        "from sklearn.utils import class_weight\n",
        "\n",
        "weights = class_weight.compute_class_weight(class_weight='balanced',classes=np.unique(y_train),y=np.reshape(y_train,(-1)))\n",
        "weights = dict(enumerate(weights))\n",
        "\n",
        "checkpoint_filepath = \"./doc/tmp/checkpoint_LSTM\"\n",
        "checkpoint_callback = tf.keras.callbacks.ModelCheckpoint(\n",
        "        checkpoint_filepath,\n",
        "        monitor=\"AUC\",\n",
        "        save_best_only=True,\n",
        "        save_weights_only=True,\n",
        "    )\n",
        "\n",
        "early_stoping_callback = tf.keras.callbacks.EarlyStopping(monitor='AUC', patience=2)"
      ],
      "metadata": {
        "id": "WVy_8s_B4fyw"
      },
      "execution_count": null,
      "outputs": []
    },
    {
      "cell_type": "code",
      "source": [
        "start = time.time()\n",
        "model.fit(X_train,y_train,batch_size=64,epochs=15, validation_split=0.1,callbacks=early_stoping_callback, class_weight=weights)\n",
        "end = time.time()\n",
        "print('Training time of Modified LSTM:', round(end-start,3), 'seconds')"
      ],
      "metadata": {
        "colab": {
          "base_uri": "https://localhost:8080/"
        },
        "id": "DnWx4p1Z5zFp",
        "outputId": "e9bc105b-9964-4102-aae1-1334677fdf4e"
      },
      "execution_count": null,
      "outputs": [
        {
          "output_type": "stream",
          "name": "stdout",
          "text": [
            "Epoch 1/15\n",
            "254/254 [==============================] - 59s 167ms/step - loss: 0.6418 - accuracy: 0.5896 - AUC: 0.6876 - val_loss: 0.3596 - val_accuracy: 0.8728 - val_AUC: 0.9105\n",
            "Epoch 2/15\n",
            "254/254 [==============================] - 40s 156ms/step - loss: 0.3709 - accuracy: 0.8598 - AUC: 0.9128 - val_loss: 0.2645 - val_accuracy: 0.9150 - val_AUC: 0.9362\n",
            "Epoch 3/15\n",
            "254/254 [==============================] - 39s 156ms/step - loss: 0.2075 - accuracy: 0.9289 - AUC: 0.9704 - val_loss: 0.1870 - val_accuracy: 0.9372 - val_AUC: 0.9230\n",
            "Training time of Modified LSTM: 138.208 seconds\n"
          ]
        }
      ]
    },
    {
      "cell_type": "code",
      "source": [
        "from sklearn.metrics import precision_score, recall_score, f1_score,roc_auc_score\n",
        "# model = SpoilerLSTM()\n",
        "# model.load_weights(root+\"/tmp/checkpoint_LSTM\")\n",
        "scores = model.predict(X_test, verbose=0)\n",
        "yhat_class = [1 if score>0.5 else 0 for score in scores]\n",
        "fpr5, tpr5, _ = roc_curve(y_test,  scores)\n",
        "\n",
        "print(\"Testing accuracy: \" + str(model.evaluate(X_test,y_test)[1]))\n",
        "print(\"Precision on test data: \" + str(precision_score(y_test, yhat_class)))\n",
        "print(\"Recall on test data: \" + str(recall_score(y_test, yhat_class)))\n",
        "print(\"f1 score on test data: \" + str(f1_score(y_test, yhat_class)))\n",
        "print(\"AUC on test data: \" + str(roc_auc_score(y_test, scores)))"
      ],
      "metadata": {
        "id": "FWP1Xi5q4bjU",
        "colab": {
          "base_uri": "https://localhost:8080/"
        },
        "outputId": "16c2584b-050a-4fb4-e351-fb1222b909f9"
      },
      "execution_count": null,
      "outputs": [
        {
          "output_type": "stream",
          "name": "stdout",
          "text": [
            "63/63 [==============================] - 4s 61ms/step - loss: 0.2012 - accuracy: 0.9380 - AUC: 0.9104\n",
            "Testing accuracy: 0.9380000233650208\n",
            "Precision on test data: 0.38562091503267976\n",
            "Recall on test data: 0.6629213483146067\n",
            "f1 score on test data: 0.48760330578512395\n",
            "AUC on test data: 0.9116704590219838\n"
          ]
        }
      ]
    },
    {
      "cell_type": "markdown",
      "source": [
        "# Step 5: Comparison"
      ],
      "metadata": {
        "id": "8GolFExqc92J"
      }
    },
    {
      "cell_type": "code",
      "source": [
        "plt.plot([0,1],[0,1], 'k--')\n",
        "plt.plot(fpr1, tpr1, label= \"SVM\")\n",
        "plt.plot(fpr2, tpr2, label= \"Weighted SVM\")\n",
        "plt.plot(fpr3, tpr3, label= \"LSTM\")\n",
        "plt.plot(fpr4, tpr4, label= \"Weighted LSTM\")\n",
        "plt.plot(fpr5, tpr5, label= \"Attention LSTM\")\n",
        "plt.legend()\n",
        "plt.xlabel(\"FPR\")\n",
        "plt.ylabel(\"TPR\")\n",
        "plt.title('Receiver Operating Characteristic')\n",
        "plt.show()"
      ],
      "metadata": {
        "id": "u2aMszmUQ-ht",
        "colab": {
          "base_uri": "https://localhost:8080/",
          "height": 295
        },
        "outputId": "a81e31ab-bca5-4e8f-b96c-6de238514d1b"
      },
      "execution_count": null,
      "outputs": [
        {
          "output_type": "display_data",
          "data": {
            "text/plain": [
              "<Figure size 432x288 with 1 Axes>"
            ],
            "image/png": "[encoded data removed]"
          },
          "metadata": {
            "needs_background": "light"
          }
        }
      ]
    }
  ],
  "metadata": {
    "colab": {
      "collapsed_sections": [],
      "name": "spoiler_model.ipynb",
      "provenance": []
    },
    "kernelspec": {
      "display_name": "Python 3",
      "name": "python3"
    },
    "language_info": {
      "name": "python"
    },
    "accelerator": "GPU"
  },
  "nbformat": 4,
  "nbformat_minor": 0
}